{
  "nbformat": 4,
  "nbformat_minor": 0,
  "metadata": {
    "colab": {
      "provenance": []
    },
    "kernelspec": {
      "name": "python3",
      "display_name": "Python 3"
    },
    "language_info": {
      "name": "python"
    }
  },
  "cells": [
    {
      "cell_type": "code",
      "execution_count": null,
      "metadata": {
        "id": "oNgdNDKhLjrd"
      },
      "outputs": [],
      "source": [
        "from time import *"
      ]
    },
    {
      "cell_type": "code",
      "source": [
        "import random as r"
      ],
      "metadata": {
        "id": "AM1sLl9SMJHN"
      },
      "execution_count": null,
      "outputs": []
    },
    {
      "cell_type": "code",
      "source": [
        "def mistake(paratext, usertest):\n",
        "  error = 0\n",
        "  for i in range(len(paratext)):\n",
        "    try:\n",
        "      if paratext[i] != usertest[i]:\n",
        "        error += 1\n",
        "    except:\n",
        "      error += 1\n",
        "  return error\n",
        "\n"
      ],
      "metadata": {
        "id": "4TPA8HoDNanE"
      },
      "execution_count": null,
      "outputs": []
    },
    {
      "cell_type": "code",
      "source": [
        " def speed_time(start_time,end_time,userinput):\n",
        "  time_delay = end_time - start_time\n",
        "  time_r = round(time_delay, 2)\n",
        "  speed = len(userinput)/time_r\n",
        "  return round(speed)"
      ],
      "metadata": {
        "id": "oU34m9WhNaqQ"
      },
      "execution_count": null,
      "outputs": []
    },
    {
      "cell_type": "code",
      "source": [
        "while True:\n",
        "    test = [\"A quick brown fox jumps over the lazy dog\",\n",
        "            \"My name is Rahul Maurya\", \"Welcome to my repo\"]\n",
        "\n",
        "    test1 = r.choice(test)\n",
        "\n",
        "    print(\"     *******typing speed***** \")\n",
        "    print(test1)\n",
        "    print()\n",
        "    print()\n",
        "\n",
        "    time_1 = time()\n",
        "    testinput = input(\"Start Typing:\")\n",
        "    time_2 = time()\n",
        "\n",
        "    print(\"Speed:\", speed_time(time_1, time_2, testinput), \"w/sec\")\n",
        "    print(\"Error:\", mistake(test1, testinput))\n",
        "\n",
        "    play_again = input(\"Do you want to play again? (yes/no): \").lower()\n",
        "\n",
        "    if play_again != 'yes':\n",
        "        break"
      ],
      "metadata": {
        "colab": {
          "base_uri": "https://localhost:8080/"
        },
        "id": "0UZ7z0TlMQxW",
        "outputId": "84c66f93-f981-4cd1-eaa6-af161ebcafdb"
      },
      "execution_count": null,
      "outputs": [
        {
          "name": "stdout",
          "output_type": "stream",
          "text": [
            "     *******typing speed***** \n",
            "Welcome to my repo\n",
            "\n",
            "\n",
            "Start Typing:Welcome to my repo\n",
            "Speed: 2 w/sec\n",
            "Error: 0\n",
            "Do you want to play again? (yes/no): yes\n",
            "     *******typing speed***** \n",
            "My name is Rahul Maurya\n",
            "\n",
            "\n",
            "Start Typing:My name is Rahul Maurya\n",
            "Speed: 2 w/sec\n",
            "Error: 0\n",
            "Do you want to play again? (yes/no): YES\n",
            "     *******typing speed***** \n",
            "My name is Rahul Maurya\n",
            "\n",
            "\n",
            "Start Typing:My name is Rahul maurya\n",
            "Speed: 2 w/sec\n",
            "Error: 1\n",
            "Do you want to play again? (yes/no): yes\n",
            "     *******typing speed***** \n",
            "Welcome to my repo\n",
            "\n",
            "\n",
            "Start Typing:Welcome to my repo\n",
            "Speed: 3 w/sec\n",
            "Error: 0\n",
            "Do you want to play again? (yes/no): yes\n",
            "     *******typing speed***** \n",
            "Welcome to my repo\n",
            "\n",
            "\n",
            "Start Typing:welcome to my repo\n",
            "Speed: 3 w/sec\n",
            "Error: 1\n",
            "Do you want to play again? (yes/no): yes\n",
            "     *******typing speed***** \n",
            "My name is Rahul Maurya\n",
            "\n",
            "\n",
            "Start Typing:My name is rahul MAurya\n",
            "Speed: 3 w/sec\n",
            "Error: 2\n",
            "Do you want to play again? (yes/no): yes\n",
            "     *******typing speed***** \n",
            "My name is Rahul Maurya\n",
            "\n",
            "\n",
            "Start Typing:My name is Rahul Maurya\n",
            "Speed: 2 w/sec\n",
            "Error: 0\n",
            "Do you want to play again? (yes/no): yes\n",
            "     *******typing speed***** \n",
            "My name is Rahul Maurya\n",
            "\n",
            "\n",
            "Start Typing:My name is Rahul Maurya\n",
            "Speed: 2 w/sec\n",
            "Error: 0\n",
            "Do you want to play again? (yes/no): yes\n",
            "     *******typing speed***** \n",
            "A quick brown fox jumps over the lazy dog\n",
            "\n",
            "\n",
            "Start Typing:A quick brown fox jumps over the lazy dog\n",
            "Speed: 2 w/sec\n",
            "Error: 0\n",
            "Do you want to play again? (yes/no): no\n"
          ]
        }
      ]
    },
    {
      "cell_type": "code",
      "source": [],
      "metadata": {
        "id": "itAnEsRYNHqK"
      },
      "execution_count": null,
      "outputs": []
    }
  ]
}